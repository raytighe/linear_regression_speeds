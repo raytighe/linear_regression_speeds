{
 "cells": [
  {
   "cell_type": "markdown",
   "id": "simple-biology",
   "metadata": {},
   "source": [
    "# Runtime Comparison and Linear Regression Method"
   ]
  },
  {
   "cell_type": "code",
   "execution_count": 24,
   "id": "alert-timer",
   "metadata": {},
   "outputs": [],
   "source": [
    "# importing the required module  \n",
    "import timeit  "
   ]
  },
  {
   "cell_type": "code",
   "execution_count": 127,
   "id": "several-robert",
   "metadata": {},
   "outputs": [
    {
     "name": "stdout",
     "output_type": "stream",
     "text": [
      "0.10440639999978885\n"
     ]
    }
   ],
   "source": [
    "setup = '''\n",
    "import numpy as np\n",
    "from sklearn import linear_model\n",
    "import random\n",
    "n = 10000\n",
    "p = 200\n",
    "'''\n",
    "\n",
    "model = '''  \n",
    "sample = np.random.normal(0,1,(n,p))\n",
    "linear_model.LinearRegression(fit_intercept=False).fit(sample[:,0:p-1], sample[:,p-1:p])\n",
    "'''\n",
    "  \n",
    "# timeit statement  \n",
    "print (timeit.timeit(setup = setup, \n",
    "                     stmt = model, \n",
    "                     number = 1)) \n",
    "  "
   ]
  },
  {
   "cell_type": "markdown",
   "id": "searching-inspector",
   "metadata": {},
   "source": [
    "## Matrix Multiplication with Numpy"
   ]
  },
  {
   "cell_type": "code",
   "execution_count": 144,
   "id": "impaired-sierra",
   "metadata": {},
   "outputs": [
    {
     "name": "stdout",
     "output_type": "stream",
     "text": [
      "0.09534480000002077\n"
     ]
    }
   ],
   "source": [
    "setup = '''\n",
    "import numpy as np\n",
    "from sklearn import linear_model\n",
    "import random\n",
    "n = 10000\n",
    "p = 200\n",
    "'''\n",
    "\n",
    "model = '''  \n",
    "sample = np.random.normal(0,1,(n,p))\n",
    "np.matmul(np.matmul(np.linalg.inv(np.matmul(np.transpose(sample[:,0:p-1]),\n",
    "                                            sample[:,0:p-1])),np.transpose(sample[:,0:p-1])),sample[:,p-1:p])\n",
    "'''\n",
    "  \n",
    "# timeit statement  \n",
    "print (timeit.timeit(setup = model, \n",
    "                     stmt = code, \n",
    "                     number = 1)) "
   ]
  },
  {
   "cell_type": "code",
   "execution_count": null,
   "id": "soviet-curve",
   "metadata": {},
   "outputs": [],
   "source": []
  }
 ],
 "metadata": {
  "kernelspec": {
   "display_name": "Python 3",
   "language": "python",
   "name": "python3"
  },
  "language_info": {
   "codemirror_mode": {
    "name": "ipython",
    "version": 3
   },
   "file_extension": ".py",
   "mimetype": "text/x-python",
   "name": "python",
   "nbconvert_exporter": "python",
   "pygments_lexer": "ipython3",
   "version": "3.7.10"
  }
 },
 "nbformat": 4,
 "nbformat_minor": 5
}
