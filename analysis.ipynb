{
 "cells": [
  {
   "cell_type": "markdown",
   "id": "rational-chance",
   "metadata": {},
   "source": [
    "# Runtime Comparison and Linear Regression Methods\n",
    "\n",
    "In this analysis I compare the runtimes of different methods to fit an ordinary least squares regression model. I fit a multivariate normal random sample using Scikit-Learn’s Linear Model module, statsmodels’ sm module, and with simple matrix multiplication. The result was three clear runtime distributions with simple matrix multiplication having the fastest mean runtime, followed by the Scikit-Learn then statsmodels methods. The results suggest that the most computationally efficient method for fitting ordinary least squares regression models with 0 intercept is using Numpy’s vectorized matrix multiplication. However, in practice, the average runtimes differ by hundredths of seconds so the relevant efficiency gains may be negligible."
   ]
  },
  {
   "cell_type": "code",
   "execution_count": 1,
   "id": "under-hello",
   "metadata": {},
   "outputs": [],
   "source": [
    "import matplotlib.pyplot as plt\n",
    "import timeit\n",
    "import numpy as np"
   ]
  },
  {
   "cell_type": "markdown",
   "id": "loaded-louisville",
   "metadata": {},
   "source": [
    "## Setup\n",
    "For each trial, I generated a $N_{200}(0,1)$ random sample with 10,000 rows. The first 199 variables were fit to the $200^{th}$ variable and since the data was already centered, I fit each model without an intercept. For the matrix multiplication method, I made use of the fact the an ordinary least squares regression model is fitted as $\\hat{\\beta} = (X'X)^{-1}X'Y$."
   ]
  },
  {
   "cell_type": "code",
   "execution_count": 2,
   "id": "existing-bibliography",
   "metadata": {},
   "outputs": [],
   "source": [
    "setup_sklearn = '''\n",
    "import numpy as np\n",
    "import statsmodels.api as sm\n",
    "from sklearn import linear_model\n",
    "import random\n",
    "n = 10000\n",
    "p = 200\n",
    "'''\n",
    "\n",
    "model_sklearn = '''  \n",
    "sample = np.random.normal(0,1,(n,p))\n",
    "linear_model.LinearRegression(fit_intercept=False).fit(sample[:,0:p-1], sample[:,p-1:p])\n",
    "'''\n",
    "  \n",
    "def sklearn_method():\n",
    "    execution_time = timeit.timeit(setup = setup_sklearn, stmt = model_sklearn, number = 1)\n",
    "    return execution_time"
   ]
  },
  {
   "cell_type": "code",
   "execution_count": 3,
   "id": "disciplinary-onion",
   "metadata": {},
   "outputs": [],
   "source": [
    "setup_statsmodels = '''\n",
    "import numpy as np\n",
    "import statsmodels.api as sm\n",
    "from sklearn import linear_model\n",
    "import random\n",
    "n = 10000\n",
    "p = 200\n",
    "'''\n",
    "\n",
    "model_statsmodels = '''  \n",
    "sample = np.random.normal(0,1,(n,p))\n",
    "sm.OLS(sample[:,p-1:p], sample[:,0:p-1])\n",
    "'''\n",
    "  \n",
    "def statsmodels_method():\n",
    "    execution_time = timeit.timeit(setup = setup_statsmodels, stmt = model_statsmodels, number = 1)\n",
    "    return execution_time"
   ]
  },
  {
   "cell_type": "code",
   "execution_count": 4,
   "id": "noble-depression",
   "metadata": {},
   "outputs": [],
   "source": [
    "setup_matmul = '''\n",
    "import numpy as np\n",
    "import statsmodels.api as sm\n",
    "from sklearn import linear_model\n",
    "import random\n",
    "n = 10000\n",
    "p = 200\n",
    "'''\n",
    "\n",
    "model_matmul = '''  \n",
    "sample = np.random.normal(0,1,(n,p))\n",
    "np.matmul(np.matmul(np.linalg.inv(np.matmul(np.transpose(sample[:,0:p-1]),\n",
    "                                            sample[:,0:p-1])),np.transpose(sample[:,0:p-1])),sample[:,p-1:p])\n",
    "'''\n",
    "  \n",
    "# timeit statement  \n",
    "def matmul_method():\n",
    "    execution_time = timeit.timeit(setup = setup_matmul, stmt = model_matmul, number = 1)\n",
    "    return execution_time"
   ]
  },
  {
   "cell_type": "markdown",
   "id": "sharing-skirt",
   "metadata": {},
   "source": [
    "## Results\n",
    "I ran each method 1000 times on my Dell XPS running Windows 10 with 16gb of ram. The $i^{th}$ trial of each method was conducted together to control for the effects of the OS since it may run slower at times. I also imported the same Python modules for each method to reduce bias from importing packages (e.g. The statsmodels trials imported Sklearn even though it was not used). "
   ]
  },
  {
   "cell_type": "code",
   "execution_count": 6,
   "id": "executed-raising",
   "metadata": {},
   "outputs": [],
   "source": [
    "#sample size\n",
    "n_sample = 1000\n",
    "\n",
    "sklearn_method_results = np.empty((n_sample),dtype=np.longfloat)\n",
    "statsmodels_method_results = np.empty((n_sample),dtype=np.longfloat)\n",
    "matmul_method_results = np.empty((n_sample),dtype=np.longfloat)\n",
    "for i in range(0,n_sample): \n",
    "    sklearn_method_results[i] = sklearn_method()\n",
    "    statsmodels_method_results[i] = statsmodels_method()\n",
    "    matmul_method_results[i] = matmul_method()"
   ]
  },
  {
   "cell_type": "code",
   "execution_count": 17,
   "id": "strategic-uganda",
   "metadata": {},
   "outputs": [
    {
     "data": {
      "image/png": "[encoded data removed]",
      "text/plain": [
       "<Figure size 432x288 with 1 Axes>"
      ]
     },
     "metadata": {
      "needs_background": "light"
     },
     "output_type": "display_data"
    },
    {
     "name": "stdout",
     "output_type": "stream",
     "text": [
      "Sci-Kit Learn mean runtime:  0.1101\n",
      "statsmodels mean runtime:  0.1267\n",
      "Matrix Multiplication mean runtime:  0.0756\n"
     ]
    }
   ],
   "source": [
    "n_bins = 30\n",
    "plt.hist(sklearn_method_results, bins = n_bins , alpha=0.5, label='Scikit-Learn')\n",
    "plt.hist(statsmodels_method_results, bins = n_bins , alpha=0.5, label='statsmodels')\n",
    "plt.hist(matmul_method_results, bins = n_bins, alpha=0.5, label='Matrix Multiplication')\n",
    "plt.legend(loc='upper right')\n",
    "plt.title('Runtime Distributions (n=1000)')\n",
    "plt.xlabel('Runtime (seconds)')\n",
    "plt.ylabel('Count')\n",
    "plt.show()\n",
    "\n",
    "print('Sci-Kit Learn mean runtime: ',round(np.mean(sklearn_method_results),4))\n",
    "print('statsmodels mean runtime: ',round(np.mean(statsmodels_method_results),4))\n",
    "print('Matrix Multiplication mean runtime: ',round(np.mean(matmul_method_results),4))"
   ]
  },
  {
   "cell_type": "markdown",
   "id": "fewer-information",
   "metadata": {},
   "source": [
    "After 1000 trials of each method, three distinct distributions appeared. The matrix multiplication method was the clear winner with an average runtime of 0.08 seconds. The Scikit-Learn method produced the next lowest mean runtime at 0.11 seconds and the slowest was the statsmodel method with a mean runtime of 0.13 seconds.\n",
    "\n",
    "Although the matrix multiplication method is the clear winner, its implementation is a bit messier than the Scikit-Learn implementation. Furthermore, the small increase in computation time probably has little to no practical relevancy. Scikit-Learn also easily accounts for modifications like a non-zero intercept. "
   ]
  },
  {
   "cell_type": "markdown",
   "id": "dimensional-position",
   "metadata": {},
   "source": [
    "## Central Limit Theorem Digression\n",
    "\n",
    "In the above histogram, we see the runtimes from the Scikit-Learn method is clearly not normally distributed. However, I sampled these runtimes 500 times using a sample size of 150. As a demonstration of the central limit theorem, we can see that the means of the $n=150$ samples are approximately  normally distributed since $n$ is large."
   ]
  },
  {
   "cell_type": "code",
   "execution_count": 8,
   "id": "fancy-screening",
   "metadata": {},
   "outputs": [
    {
     "data": {
      "image/png": "[encoded data removed]",
      "text/plain": [
       "<Figure size 432x288 with 1 Axes>"
      ]
     },
     "metadata": {
      "needs_background": "light"
     },
     "output_type": "display_data"
    }
   ],
   "source": [
    "clt_results = np.empty((500),dtype=np.longfloat)\n",
    "for i in range(0,500):\n",
    "    clt_sample = np.random.choice(sklearn_method_results, size=150)\n",
    "    clt_results[i] = np.mean(clt_sample)\n",
    "\n",
    "plt.hist(clt_results, bins = 30 , alpha=0.5)\n",
    "plt.title('Distribution of Average Sci-Kit Learn Runtimes')\n",
    "plt.xlabel('Average Runtime (seconds)')\n",
    "plt.ylabel('Count')\n",
    "plt.show()"
   ]
  },
  {
   "cell_type": "code",
   "execution_count": null,
   "id": "streaming-democrat",
   "metadata": {},
   "outputs": [],
   "source": []
  }
 ],
 "metadata": {
  "kernelspec": {
   "display_name": "Python 3",
   "language": "python",
   "name": "python3"
  },
  "language_info": {
   "codemirror_mode": {
    "name": "ipython",
    "version": 3
   },
   "file_extension": ".py",
   "mimetype": "text/x-python",
   "name": "python",
   "nbconvert_exporter": "python",
   "pygments_lexer": "ipython3",
   "version": "3.7.10"
  }
 },
 "nbformat": 4,
 "nbformat_minor": 5
}
